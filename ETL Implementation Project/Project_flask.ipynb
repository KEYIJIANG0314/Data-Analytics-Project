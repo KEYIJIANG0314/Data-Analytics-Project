{
 "cells": [
  {
   "cell_type": "markdown",
   "id": "e358b2e4",
   "metadata": {},
   "source": [
    "## 5400 Group 1 - NYPD Calls for Service Data"
   ]
  },
  {
   "cell_type": "markdown",
   "id": "2924c854",
   "metadata": {},
   "source": [
    "### Jasmine(Keyi) Jiang, Heyou Pan, Jiajun Ma, Haonan Yao, Tianren Xie\n",
    "### Technology: Python Flask, Postgre SQL, MongoDB"
   ]
  },
  {
   "cell_type": "markdown",
   "id": "f08b1637",
   "metadata": {},
   "source": [
    "## 1. Data Loading & Preprocessing"
   ]
  },
  {
   "cell_type": "code",
   "execution_count": 1,
   "id": "91713811",
   "metadata": {},
   "outputs": [],
   "source": [
    "import pandas as pd"
   ]
  },
  {
   "cell_type": "code",
   "execution_count": 2,
   "id": "89418b67",
   "metadata": {},
   "outputs": [
    {
     "name": "stdout",
     "output_type": "stream",
     "text": [
      "CPU times: user 23.1 s, sys: 4.6 s, total: 27.7 s\n",
      "Wall time: 29.8 s\n"
     ]
    },
    {
     "data": {
      "text/html": [
       "<div>\n",
       "<style scoped>\n",
       "    .dataframe tbody tr th:only-of-type {\n",
       "        vertical-align: middle;\n",
       "    }\n",
       "\n",
       "    .dataframe tbody tr th {\n",
       "        vertical-align: top;\n",
       "    }\n",
       "\n",
       "    .dataframe thead th {\n",
       "        text-align: right;\n",
       "    }\n",
       "</style>\n",
       "<table border=\"1\" class=\"dataframe\">\n",
       "  <thead>\n",
       "    <tr style=\"text-align: right;\">\n",
       "      <th></th>\n",
       "      <th>Unnamed: 0</th>\n",
       "      <th>CAD_EVNT_ID</th>\n",
       "      <th>CREATE_DATE</th>\n",
       "      <th>INCIDENT_DATE</th>\n",
       "      <th>INCIDENT_TIME</th>\n",
       "      <th>NYPD_PCT_CD</th>\n",
       "      <th>BORO_NM</th>\n",
       "      <th>PATRL_BORO_NM</th>\n",
       "      <th>GEO_CD_X</th>\n",
       "      <th>GEO_CD_Y</th>\n",
       "      <th>...</th>\n",
       "      <th>DISP_TS</th>\n",
       "      <th>ARRIVD_TS</th>\n",
       "      <th>CLOSNG_TS</th>\n",
       "      <th>Latitude</th>\n",
       "      <th>Longitude</th>\n",
       "      <th>INCIDENT_TS</th>\n",
       "      <th>OVERALL_EFF</th>\n",
       "      <th>RESPOND_EFF</th>\n",
       "      <th>DISPATCH_EFF</th>\n",
       "      <th>SOLVE_EFF</th>\n",
       "    </tr>\n",
       "  </thead>\n",
       "  <tbody>\n",
       "    <tr>\n",
       "      <th>0</th>\n",
       "      <td>1</td>\n",
       "      <td>82283653</td>\n",
       "      <td>01/01/2022</td>\n",
       "      <td>12/31/2021</td>\n",
       "      <td>23:02:02</td>\n",
       "      <td>42.0</td>\n",
       "      <td>BRONX</td>\n",
       "      <td>BRONX</td>\n",
       "      <td>1014646</td>\n",
       "      <td>243583</td>\n",
       "      <td>...</td>\n",
       "      <td>01/01/2022 12:19:23 AM</td>\n",
       "      <td>NaN</td>\n",
       "      <td>01/01/2022 01:21:48 AM</td>\n",
       "      <td>40.835210</td>\n",
       "      <td>-73.890157</td>\n",
       "      <td>12/31/2021 23:02:02</td>\n",
       "      <td>8386.0</td>\n",
       "      <td>4324</td>\n",
       "      <td>317</td>\n",
       "      <td>3745.0</td>\n",
       "    </tr>\n",
       "    <tr>\n",
       "      <th>1</th>\n",
       "      <td>2</td>\n",
       "      <td>82284236</td>\n",
       "      <td>01/01/2022</td>\n",
       "      <td>12/31/2021</td>\n",
       "      <td>23:42:04</td>\n",
       "      <td>18.0</td>\n",
       "      <td>MANHATTAN</td>\n",
       "      <td>MAN SOUTH</td>\n",
       "      <td>989529</td>\n",
       "      <td>218317</td>\n",
       "      <td>...</td>\n",
       "      <td>01/01/2022 12:03:41 AM</td>\n",
       "      <td>NaN</td>\n",
       "      <td>01/01/2022 12:58:08 AM</td>\n",
       "      <td>40.765913</td>\n",
       "      <td>-73.980944</td>\n",
       "      <td>12/31/2021 23:42:04</td>\n",
       "      <td>4564.0</td>\n",
       "      <td>1242</td>\n",
       "      <td>55</td>\n",
       "      <td>3267.0</td>\n",
       "    </tr>\n",
       "    <tr>\n",
       "      <th>2</th>\n",
       "      <td>3</td>\n",
       "      <td>82284489</td>\n",
       "      <td>01/01/2022</td>\n",
       "      <td>01/01/2022</td>\n",
       "      <td>00:00:16</td>\n",
       "      <td>121.0</td>\n",
       "      <td>STATEN ISLAND</td>\n",
       "      <td>STATEN ISLAND</td>\n",
       "      <td>939031</td>\n",
       "      <td>165829</td>\n",
       "      <td>...</td>\n",
       "      <td>01/01/2022 12:00:21 AM</td>\n",
       "      <td>NaN</td>\n",
       "      <td>01/01/2022 01:27:28 AM</td>\n",
       "      <td>40.621732</td>\n",
       "      <td>-74.162890</td>\n",
       "      <td>01/01/2022 00:00:16</td>\n",
       "      <td>5232.0</td>\n",
       "      <td>0</td>\n",
       "      <td>5</td>\n",
       "      <td>5227.0</td>\n",
       "    </tr>\n",
       "    <tr>\n",
       "      <th>3</th>\n",
       "      <td>4</td>\n",
       "      <td>82284490</td>\n",
       "      <td>01/01/2022</td>\n",
       "      <td>01/01/2022</td>\n",
       "      <td>00:00:23</td>\n",
       "      <td>70.0</td>\n",
       "      <td>BROOKLYN</td>\n",
       "      <td>BKLYN SOUTH</td>\n",
       "      <td>992635</td>\n",
       "      <td>174415</td>\n",
       "      <td>...</td>\n",
       "      <td>01/01/2022 02:06:26 AM</td>\n",
       "      <td>NaN</td>\n",
       "      <td>01/01/2022 02:43:48 AM</td>\n",
       "      <td>40.645410</td>\n",
       "      <td>-73.969786</td>\n",
       "      <td>01/01/2022 00:00:23</td>\n",
       "      <td>9805.0</td>\n",
       "      <td>0</td>\n",
       "      <td>7563</td>\n",
       "      <td>2242.0</td>\n",
       "    </tr>\n",
       "    <tr>\n",
       "      <th>4</th>\n",
       "      <td>5</td>\n",
       "      <td>82284493</td>\n",
       "      <td>01/01/2022</td>\n",
       "      <td>01/01/2022</td>\n",
       "      <td>00:00:33</td>\n",
       "      <td>44.0</td>\n",
       "      <td>BRONX</td>\n",
       "      <td>BRONX</td>\n",
       "      <td>1008846</td>\n",
       "      <td>245939</td>\n",
       "      <td>...</td>\n",
       "      <td>01/01/2022 12:46:20 AM</td>\n",
       "      <td>NaN</td>\n",
       "      <td>01/01/2022 04:57:39 AM</td>\n",
       "      <td>40.841695</td>\n",
       "      <td>-73.911108</td>\n",
       "      <td>01/01/2022 00:00:33</td>\n",
       "      <td>17826.0</td>\n",
       "      <td>0</td>\n",
       "      <td>2747</td>\n",
       "      <td>15079.0</td>\n",
       "    </tr>\n",
       "  </tbody>\n",
       "</table>\n",
       "<p>5 rows × 24 columns</p>\n",
       "</div>"
      ],
      "text/plain": [
       "   Unnamed: 0  CAD_EVNT_ID CREATE_DATE INCIDENT_DATE INCIDENT_TIME  \\\n",
       "0           1     82283653  01/01/2022    12/31/2021      23:02:02   \n",
       "1           2     82284236  01/01/2022    12/31/2021      23:42:04   \n",
       "2           3     82284489  01/01/2022    01/01/2022      00:00:16   \n",
       "3           4     82284490  01/01/2022    01/01/2022      00:00:23   \n",
       "4           5     82284493  01/01/2022    01/01/2022      00:00:33   \n",
       "\n",
       "   NYPD_PCT_CD        BORO_NM  PATRL_BORO_NM  GEO_CD_X  GEO_CD_Y  ...  \\\n",
       "0         42.0          BRONX          BRONX   1014646    243583  ...   \n",
       "1         18.0      MANHATTAN      MAN SOUTH    989529    218317  ...   \n",
       "2        121.0  STATEN ISLAND  STATEN ISLAND    939031    165829  ...   \n",
       "3         70.0       BROOKLYN    BKLYN SOUTH    992635    174415  ...   \n",
       "4         44.0          BRONX          BRONX   1008846    245939  ...   \n",
       "\n",
       "                  DISP_TS ARRIVD_TS               CLOSNG_TS   Latitude  \\\n",
       "0  01/01/2022 12:19:23 AM       NaN  01/01/2022 01:21:48 AM  40.835210   \n",
       "1  01/01/2022 12:03:41 AM       NaN  01/01/2022 12:58:08 AM  40.765913   \n",
       "2  01/01/2022 12:00:21 AM       NaN  01/01/2022 01:27:28 AM  40.621732   \n",
       "3  01/01/2022 02:06:26 AM       NaN  01/01/2022 02:43:48 AM  40.645410   \n",
       "4  01/01/2022 12:46:20 AM       NaN  01/01/2022 04:57:39 AM  40.841695   \n",
       "\n",
       "   Longitude          INCIDENT_TS OVERALL_EFF  RESPOND_EFF  DISPATCH_EFF  \\\n",
       "0 -73.890157  12/31/2021 23:02:02      8386.0         4324           317   \n",
       "1 -73.980944  12/31/2021 23:42:04      4564.0         1242            55   \n",
       "2 -74.162890  01/01/2022 00:00:16      5232.0            0             5   \n",
       "3 -73.969786  01/01/2022 00:00:23      9805.0            0          7563   \n",
       "4 -73.911108  01/01/2022 00:00:33     17826.0            0          2747   \n",
       "\n",
       "  SOLVE_EFF  \n",
       "0    3745.0  \n",
       "1    3267.0  \n",
       "2    5227.0  \n",
       "3    2242.0  \n",
       "4   15079.0  \n",
       "\n",
       "[5 rows x 24 columns]"
      ]
     },
     "execution_count": 2,
     "metadata": {},
     "output_type": "execute_result"
    }
   ],
   "source": [
    "%%time\n",
    "\n",
    "#partially preprocessed in R by adding efficiency columns\n",
    "\n",
    "df = pd.read_csv('5400NYPD.csv')\n",
    "df.head()"
   ]
  },
  {
   "cell_type": "code",
   "execution_count": 3,
   "id": "4817ec54",
   "metadata": {},
   "outputs": [
    {
     "data": {
      "text/plain": [
       "7401019"
      ]
     },
     "execution_count": 3,
     "metadata": {},
     "output_type": "execute_result"
    }
   ],
   "source": [
    "len(df)"
   ]
  },
  {
   "cell_type": "code",
   "execution_count": 4,
   "id": "cf622994",
   "metadata": {},
   "outputs": [
    {
     "data": {
      "text/plain": [
       "4"
      ]
     },
     "execution_count": 4,
     "metadata": {},
     "output_type": "execute_result"
    }
   ],
   "source": [
    "sum(df.NYPD_PCT_CD.isna())"
   ]
  },
  {
   "cell_type": "markdown",
   "id": "21385f46",
   "metadata": {},
   "source": [
    "### 1.1 Manipulate original dataset to extract information for SQL database use."
   ]
  },
  {
   "cell_type": "code",
   "execution_count": 5,
   "id": "6f6fffc3",
   "metadata": {},
   "outputs": [],
   "source": [
    "#Isolate Borough and NYPE Precinct information from original dataset\n",
    "\n",
    "df_boro = df.loc[:,['BORO_NM','PATRL_BORO_NM','NYPD_PCT_CD']].drop_duplicates(keep = 'first').dropna()"
   ]
  },
  {
   "cell_type": "code",
   "execution_count": 6,
   "id": "8f595dba",
   "metadata": {},
   "outputs": [],
   "source": [
    "df_boro['NYPD_PCT_CD'] = df_boro['NYPD_PCT_CD'].astype(int)\n",
    "df_boro = df_boro[df_boro['NYPD_PCT_CD'] != 0]"
   ]
  },
  {
   "cell_type": "code",
   "execution_count": 7,
   "id": "3582de9a",
   "metadata": {},
   "outputs": [
    {
     "data": {
      "text/html": [
       "<div>\n",
       "<style scoped>\n",
       "    .dataframe tbody tr th:only-of-type {\n",
       "        vertical-align: middle;\n",
       "    }\n",
       "\n",
       "    .dataframe tbody tr th {\n",
       "        vertical-align: top;\n",
       "    }\n",
       "\n",
       "    .dataframe thead th {\n",
       "        text-align: right;\n",
       "    }\n",
       "</style>\n",
       "<table border=\"1\" class=\"dataframe\">\n",
       "  <thead>\n",
       "    <tr style=\"text-align: right;\">\n",
       "      <th></th>\n",
       "      <th>BORO_NM</th>\n",
       "      <th>PATRL_BORO_NM</th>\n",
       "      <th>NYPD_PCT_CD</th>\n",
       "    </tr>\n",
       "  </thead>\n",
       "  <tbody>\n",
       "    <tr>\n",
       "      <th>0</th>\n",
       "      <td>BRONX</td>\n",
       "      <td>BRONX</td>\n",
       "      <td>42</td>\n",
       "    </tr>\n",
       "    <tr>\n",
       "      <th>1</th>\n",
       "      <td>MANHATTAN</td>\n",
       "      <td>MAN SOUTH</td>\n",
       "      <td>18</td>\n",
       "    </tr>\n",
       "    <tr>\n",
       "      <th>2</th>\n",
       "      <td>STATEN ISLAND</td>\n",
       "      <td>STATEN ISLAND</td>\n",
       "      <td>121</td>\n",
       "    </tr>\n",
       "    <tr>\n",
       "      <th>3</th>\n",
       "      <td>BROOKLYN</td>\n",
       "      <td>BKLYN SOUTH</td>\n",
       "      <td>70</td>\n",
       "    </tr>\n",
       "    <tr>\n",
       "      <th>4</th>\n",
       "      <td>BRONX</td>\n",
       "      <td>BRONX</td>\n",
       "      <td>44</td>\n",
       "    </tr>\n",
       "    <tr>\n",
       "      <th>...</th>\n",
       "      <td>...</td>\n",
       "      <td>...</td>\n",
       "      <td>...</td>\n",
       "    </tr>\n",
       "    <tr>\n",
       "      <th>278</th>\n",
       "      <td>MANHATTAN</td>\n",
       "      <td>MAN NORTH</td>\n",
       "      <td>20</td>\n",
       "    </tr>\n",
       "    <tr>\n",
       "      <th>333</th>\n",
       "      <td>QUEENS</td>\n",
       "      <td>QUEENS NORTH</td>\n",
       "      <td>109</td>\n",
       "    </tr>\n",
       "    <tr>\n",
       "      <th>355</th>\n",
       "      <td>MANHATTAN</td>\n",
       "      <td>MAN NORTH</td>\n",
       "      <td>33</td>\n",
       "    </tr>\n",
       "    <tr>\n",
       "      <th>388</th>\n",
       "      <td>BROOKLYN</td>\n",
       "      <td>BKLYN SOUTH</td>\n",
       "      <td>76</td>\n",
       "    </tr>\n",
       "    <tr>\n",
       "      <th>1775</th>\n",
       "      <td>MANHATTAN</td>\n",
       "      <td>MAN NORTH</td>\n",
       "      <td>22</td>\n",
       "    </tr>\n",
       "  </tbody>\n",
       "</table>\n",
       "<p>77 rows × 3 columns</p>\n",
       "</div>"
      ],
      "text/plain": [
       "            BORO_NM  PATRL_BORO_NM  NYPD_PCT_CD\n",
       "0             BRONX          BRONX           42\n",
       "1         MANHATTAN      MAN SOUTH           18\n",
       "2     STATEN ISLAND  STATEN ISLAND          121\n",
       "3          BROOKLYN    BKLYN SOUTH           70\n",
       "4             BRONX          BRONX           44\n",
       "...             ...            ...          ...\n",
       "278       MANHATTAN      MAN NORTH           20\n",
       "333          QUEENS   QUEENS NORTH          109\n",
       "355       MANHATTAN      MAN NORTH           33\n",
       "388        BROOKLYN    BKLYN SOUTH           76\n",
       "1775      MANHATTAN      MAN NORTH           22\n",
       "\n",
       "[77 rows x 3 columns]"
      ]
     },
     "execution_count": 7,
     "metadata": {},
     "output_type": "execute_result"
    }
   ],
   "source": [
    "df_boro"
   ]
  },
  {
   "cell_type": "markdown",
   "id": "5bb3bf53",
   "metadata": {},
   "source": [
    "### 1.2 Load NYPD Information dataset"
   ]
  },
  {
   "cell_type": "code",
   "execution_count": 8,
   "id": "7b0b762f",
   "metadata": {},
   "outputs": [
    {
     "data": {
      "text/html": [
       "<div>\n",
       "<style scoped>\n",
       "    .dataframe tbody tr th:only-of-type {\n",
       "        vertical-align: middle;\n",
       "    }\n",
       "\n",
       "    .dataframe tbody tr th {\n",
       "        vertical-align: top;\n",
       "    }\n",
       "\n",
       "    .dataframe thead th {\n",
       "        text-align: right;\n",
       "    }\n",
       "</style>\n",
       "<table border=\"1\" class=\"dataframe\">\n",
       "  <thead>\n",
       "    <tr style=\"text-align: right;\">\n",
       "      <th></th>\n",
       "      <th>NYPD_FULL_NAME</th>\n",
       "      <th>NYPD_PCT_CD</th>\n",
       "      <th>PHONE_NUMBER</th>\n",
       "      <th>ADDRESS</th>\n",
       "    </tr>\n",
       "  </thead>\n",
       "  <tbody>\n",
       "    <tr>\n",
       "      <th>0</th>\n",
       "      <td>1st Precinct</td>\n",
       "      <td>1</td>\n",
       "      <td>212-334-0611</td>\n",
       "      <td>16 Ericsson Place</td>\n",
       "    </tr>\n",
       "    <tr>\n",
       "      <th>1</th>\n",
       "      <td>5th Precinct</td>\n",
       "      <td>5</td>\n",
       "      <td>212-334-0711</td>\n",
       "      <td>19 Elizabeth Street</td>\n",
       "    </tr>\n",
       "    <tr>\n",
       "      <th>2</th>\n",
       "      <td>6th Precinct</td>\n",
       "      <td>6</td>\n",
       "      <td>212-741-4811</td>\n",
       "      <td>233 West 10 Street</td>\n",
       "    </tr>\n",
       "    <tr>\n",
       "      <th>3</th>\n",
       "      <td>7th Precinct</td>\n",
       "      <td>7</td>\n",
       "      <td>212-477-7311</td>\n",
       "      <td>19 1/2 Pitt Street</td>\n",
       "    </tr>\n",
       "    <tr>\n",
       "      <th>4</th>\n",
       "      <td>9th Precinct</td>\n",
       "      <td>9</td>\n",
       "      <td>212-477-7811</td>\n",
       "      <td>321 East 5 Street</td>\n",
       "    </tr>\n",
       "  </tbody>\n",
       "</table>\n",
       "</div>"
      ],
      "text/plain": [
       "  NYPD_FULL_NAME  NYPD_PCT_CD  PHONE_NUMBER              ADDRESS\n",
       "0   1st Precinct            1  212-334-0611    16 Ericsson Place\n",
       "1   5th Precinct            5  212-334-0711  19 Elizabeth Street\n",
       "2   6th Precinct            6  212-741-4811   233 West 10 Street\n",
       "3   7th Precinct            7  212-477-7311   19 1/2 Pitt Street\n",
       "4   9th Precinct            9  212-477-7811    321 East 5 Street"
      ]
     },
     "execution_count": 8,
     "metadata": {},
     "output_type": "execute_result"
    }
   ],
   "source": [
    "df_nypd = pd.read_csv('NYPD_INFO.csv')\n",
    "df_nypd.head()"
   ]
  },
  {
   "cell_type": "code",
   "execution_count": 9,
   "id": "eed7ba1a",
   "metadata": {},
   "outputs": [],
   "source": [
    "df_nypd['NYPD_PCT_CD'] = df_nypd['NYPD_PCT_CD'].astype(int)"
   ]
  },
  {
   "cell_type": "markdown",
   "id": "2b583bf0",
   "metadata": {},
   "source": [
    "### 1.3 Merge Borough NYPD data with NYPD information dataset and produce a new data table for NYPD precinct:\n",
    "The table contains Borough, Patrol Borough, NYPD precinct ID, NYPD full name, contact phone number, and address.\n",
    "This will be store in RDBMS."
   ]
  },
  {
   "cell_type": "code",
   "execution_count": 10,
   "id": "87525a5b",
   "metadata": {},
   "outputs": [
    {
     "data": {
      "text/html": [
       "<div>\n",
       "<style scoped>\n",
       "    .dataframe tbody tr th:only-of-type {\n",
       "        vertical-align: middle;\n",
       "    }\n",
       "\n",
       "    .dataframe tbody tr th {\n",
       "        vertical-align: top;\n",
       "    }\n",
       "\n",
       "    .dataframe thead th {\n",
       "        text-align: right;\n",
       "    }\n",
       "</style>\n",
       "<table border=\"1\" class=\"dataframe\">\n",
       "  <thead>\n",
       "    <tr style=\"text-align: right;\">\n",
       "      <th></th>\n",
       "      <th>BORO_NM</th>\n",
       "      <th>PATRL_BORO_NM</th>\n",
       "      <th>NYPD_PCT_CD</th>\n",
       "      <th>NYPD_FULL_NAME</th>\n",
       "      <th>PHONE_NUMBER</th>\n",
       "      <th>ADDRESS</th>\n",
       "    </tr>\n",
       "  </thead>\n",
       "  <tbody>\n",
       "    <tr>\n",
       "      <th>0</th>\n",
       "      <td>BRONX</td>\n",
       "      <td>BRONX</td>\n",
       "      <td>42</td>\n",
       "      <td>42nd Precinct</td>\n",
       "      <td>718-402-3887</td>\n",
       "      <td>830 Washington Avenue</td>\n",
       "    </tr>\n",
       "    <tr>\n",
       "      <th>1</th>\n",
       "      <td>MANHATTAN</td>\n",
       "      <td>MAN SOUTH</td>\n",
       "      <td>18</td>\n",
       "      <td>Midtown North Precinct</td>\n",
       "      <td>212-767-8400</td>\n",
       "      <td>306 West 54th Street</td>\n",
       "    </tr>\n",
       "    <tr>\n",
       "      <th>2</th>\n",
       "      <td>STATEN ISLAND</td>\n",
       "      <td>STATEN ISLAND</td>\n",
       "      <td>121</td>\n",
       "      <td>121st Precinct</td>\n",
       "      <td>718-697-8700</td>\n",
       "      <td>970 Richmond Avenue</td>\n",
       "    </tr>\n",
       "    <tr>\n",
       "      <th>3</th>\n",
       "      <td>BROOKLYN</td>\n",
       "      <td>BKLYN SOUTH</td>\n",
       "      <td>70</td>\n",
       "      <td>70th Precinct</td>\n",
       "      <td>718-851-5511</td>\n",
       "      <td>154 Lawrence Avenue</td>\n",
       "    </tr>\n",
       "    <tr>\n",
       "      <th>4</th>\n",
       "      <td>BRONX</td>\n",
       "      <td>BRONX</td>\n",
       "      <td>44</td>\n",
       "      <td>44th Precinct</td>\n",
       "      <td>718-590-5511</td>\n",
       "      <td>2 East 169th Street</td>\n",
       "    </tr>\n",
       "    <tr>\n",
       "      <th>...</th>\n",
       "      <td>...</td>\n",
       "      <td>...</td>\n",
       "      <td>...</td>\n",
       "      <td>...</td>\n",
       "      <td>...</td>\n",
       "      <td>...</td>\n",
       "    </tr>\n",
       "    <tr>\n",
       "      <th>72</th>\n",
       "      <td>MANHATTAN</td>\n",
       "      <td>MAN NORTH</td>\n",
       "      <td>20</td>\n",
       "      <td>20th Precinct</td>\n",
       "      <td>212-580-6411</td>\n",
       "      <td>120 West 82nd Street</td>\n",
       "    </tr>\n",
       "    <tr>\n",
       "      <th>73</th>\n",
       "      <td>QUEENS</td>\n",
       "      <td>QUEENS NORTH</td>\n",
       "      <td>109</td>\n",
       "      <td>109th Precinct</td>\n",
       "      <td>718-321-2250</td>\n",
       "      <td>37-05 Union Street</td>\n",
       "    </tr>\n",
       "    <tr>\n",
       "      <th>74</th>\n",
       "      <td>MANHATTAN</td>\n",
       "      <td>MAN NORTH</td>\n",
       "      <td>33</td>\n",
       "      <td>33rd Precinct</td>\n",
       "      <td>212-927-3200</td>\n",
       "      <td>2207 Amsterdam Avenue</td>\n",
       "    </tr>\n",
       "    <tr>\n",
       "      <th>75</th>\n",
       "      <td>BROOKLYN</td>\n",
       "      <td>BKLYN SOUTH</td>\n",
       "      <td>76</td>\n",
       "      <td>76th Precinct</td>\n",
       "      <td>718-834-3211</td>\n",
       "      <td>191 Union Street</td>\n",
       "    </tr>\n",
       "    <tr>\n",
       "      <th>76</th>\n",
       "      <td>MANHATTAN</td>\n",
       "      <td>MAN NORTH</td>\n",
       "      <td>22</td>\n",
       "      <td>Central Park Precinct</td>\n",
       "      <td>212-570-4820</td>\n",
       "      <td>86th St &amp; Transverse Road</td>\n",
       "    </tr>\n",
       "  </tbody>\n",
       "</table>\n",
       "<p>77 rows × 6 columns</p>\n",
       "</div>"
      ],
      "text/plain": [
       "          BORO_NM  PATRL_BORO_NM  NYPD_PCT_CD          NYPD_FULL_NAME  \\\n",
       "0           BRONX          BRONX           42           42nd Precinct   \n",
       "1       MANHATTAN      MAN SOUTH           18  Midtown North Precinct   \n",
       "2   STATEN ISLAND  STATEN ISLAND          121          121st Precinct   \n",
       "3        BROOKLYN    BKLYN SOUTH           70           70th Precinct   \n",
       "4           BRONX          BRONX           44           44th Precinct   \n",
       "..            ...            ...          ...                     ...   \n",
       "72      MANHATTAN      MAN NORTH           20           20th Precinct   \n",
       "73         QUEENS   QUEENS NORTH          109          109th Precinct   \n",
       "74      MANHATTAN      MAN NORTH           33           33rd Precinct   \n",
       "75       BROOKLYN    BKLYN SOUTH           76           76th Precinct   \n",
       "76      MANHATTAN      MAN NORTH           22   Central Park Precinct   \n",
       "\n",
       "    PHONE_NUMBER                    ADDRESS  \n",
       "0   718-402-3887      830 Washington Avenue  \n",
       "1   212-767-8400       306 West 54th Street  \n",
       "2   718-697-8700        970 Richmond Avenue  \n",
       "3   718-851-5511        154 Lawrence Avenue  \n",
       "4   718-590-5511        2 East 169th Street  \n",
       "..           ...                        ...  \n",
       "72  212-580-6411       120 West 82nd Street  \n",
       "73  718-321-2250         37-05 Union Street  \n",
       "74  212-927-3200      2207 Amsterdam Avenue  \n",
       "75  718-834-3211           191 Union Street  \n",
       "76  212-570-4820  86th St & Transverse Road  \n",
       "\n",
       "[77 rows x 6 columns]"
      ]
     },
     "execution_count": 10,
     "metadata": {},
     "output_type": "execute_result"
    }
   ],
   "source": [
    "df_sql = df_boro.merge(df_nypd, how = 'left', on = 'NYPD_PCT_CD')\n",
    "df_sql"
   ]
  },
  {
   "cell_type": "markdown",
   "id": "7d167533",
   "metadata": {},
   "source": [
    "## 2. Connect to PostgreSQL database and construct data table"
   ]
  },
  {
   "cell_type": "code",
   "execution_count": 11,
   "id": "248c0ea7",
   "metadata": {},
   "outputs": [
    {
     "name": "stdout",
     "output_type": "stream",
     "text": [
      "Connecting to the PostgreSQL database...\n"
     ]
    }
   ],
   "source": [
    "import psycopg, os\n",
    "\n",
    "print('Connecting to the PostgreSQL database...')\n",
    "conn = psycopg.connect(\n",
    "    host=\"localhost\",\n",
    "    port='5432',\n",
    "    dbname=\"postgres\",\n",
    "    user=\"postgres\",\n",
    "    password=\"123\")"
   ]
  },
  {
   "cell_type": "code",
   "execution_count": 12,
   "id": "7ae16d0c",
   "metadata": {},
   "outputs": [],
   "source": [
    "cur = conn.cursor()"
   ]
  },
  {
   "cell_type": "code",
   "execution_count": 31,
   "id": "e8fa1ddc",
   "metadata": {},
   "outputs": [],
   "source": [
    "#conn.rollback()"
   ]
  },
  {
   "cell_type": "code",
   "execution_count": 13,
   "id": "4376b228",
   "metadata": {},
   "outputs": [
    {
     "data": {
      "text/plain": [
       "<psycopg.Cursor [COMMAND_OK] [INTRANS] (host=localhost database=postgres) at 0x7f864810c3b0>"
      ]
     },
     "execution_count": 13,
     "metadata": {},
     "output_type": "execute_result"
    }
   ],
   "source": [
    "cur.execute(\"DROP TABLE NYPD_PCT\")"
   ]
  },
  {
   "cell_type": "markdown",
   "id": "7ec44ece",
   "metadata": {},
   "source": [
    "### 2.1 Create and insert into Table NYPD_PCT"
   ]
  },
  {
   "cell_type": "code",
   "execution_count": 14,
   "id": "e5d453d4",
   "metadata": {},
   "outputs": [],
   "source": [
    "# Create Table NYPD_PCT\n",
    "\n",
    "createCmd = \"\"\" CREATE TABLE NYPD_PCT (\n",
    "                BORO_NM VARCHAR(25),\n",
    "                PATRL_BORO_NM VARCHAR(255),\n",
    "                NYPD_PCT_CD INT NOT NULL,\n",
    "                NYPD_FULL_NAME VARCHAR(255),\n",
    "                PHONE_NUMBER VARCHAR(15),\n",
    "                ADDRESS VARCHAR(255),\n",
    "                Primary Key(NYPD_PCT_CD)\n",
    "                )\n",
    "            \"\"\"\n",
    "    \n",
    "cur.execute(createCmd)\n",
    "conn.commit()\n"
   ]
  },
  {
   "cell_type": "code",
   "execution_count": 19,
   "id": "13ff0bbb",
   "metadata": {},
   "outputs": [
    {
     "name": "stdout",
     "output_type": "stream",
     "text": [
      "CPU times: user 14.4 ms, sys: 7.79 ms, total: 22.1 ms\n",
      "Wall time: 146 ms\n"
     ]
    }
   ],
   "source": [
    "%%time\n",
    "\n",
    "# Insert all rows in the previous dataframe df_sql into Table NYPD_PCT\n",
    "\n",
    "for row in df_sql.itertuples():\n",
    "    cur.execute('''\n",
    "                INSERT INTO NYPD_PCT \n",
    "                (BORO_NM, PATRL_BORO_NM, \n",
    "                NYPD_PCT_CD, NYPD_FULL_NAME, \n",
    "                PHONE_NUMBER, ADDRESS)\n",
    "                VALUES (%s,%s,%s,%s,%s,%s)\n",
    "                ''',\n",
    "                (row.BORO_NM, \n",
    "                row.PATRL_BORO_NM,\n",
    "                row.NYPD_PCT_CD,\n",
    "                row.NYPD_FULL_NAME,\n",
    "                row.PHONE_NUMBER,\n",
    "                row.ADDRESS)\n",
    "                )\n",
    "    \n",
    "conn.commit()"
   ]
  },
  {
   "cell_type": "code",
   "execution_count": 20,
   "id": "056a3b3a",
   "metadata": {},
   "outputs": [
    {
     "name": "stdout",
     "output_type": "stream",
     "text": [
      "The number of rows:  77\n",
      "('BRONX', 'BRONX', 42, '42nd Precinct', '718-402-3887', '830 Washington Avenue')\n",
      "('MANHATTAN', 'MAN SOUTH', 18, 'Midtown North Precinct', '212-767-8400', '306 West 54th Street')\n",
      "('STATEN ISLAND', 'STATEN ISLAND', 121, '121st Precinct', '718-697-8700', '970 Richmond Avenue')\n",
      "('BROOKLYN', 'BKLYN SOUTH', 70, '70th Precinct', '718-851-5511', '154 Lawrence Avenue')\n",
      "('BRONX', 'BRONX', 44, '44th Precinct', '718-590-5511', '2 East 169th Street')\n",
      "('MANHATTAN', 'MAN SOUTH', 10, '10th Precinct', '212-741-8211', '230 West 20th Street')\n",
      "('BRONX', 'BRONX', 49, '49th Precinct', '718-918-2000', '2121 Eastchester Road')\n",
      "('MANHATTAN', 'MAN SOUTH', 14, 'Midtown South Precinct', '212-239-9811', '357 West 35th Street')\n",
      "('MANHATTAN', 'MAN NORTH', 19, '19th Precinct', '212-452-0600', '153 East 67th Street')\n",
      "('BROOKLYN', 'BKLYN NORTH', 77, '77th Precinct', '718-735-0611', '127 Utica Avenue')\n",
      "('BRONX', 'BRONX', 40, '40th Precinct', '718-402-2270', '257 Alexander Avenue')\n",
      "('BROOKLYN', 'BKLYN NORTH', 83, '83rd Precinct', '718-574-1605', '480 Knickerbocker Avenue')\n",
      "('BROOKLYN', 'BKLYN SOUTH', 68, '68th Precinct', '718-439-4211', '333 65th Street')\n",
      "('BRONX', 'BRONX', 43, '43rd Precinct', '718-542-0888', '900 Fteley Avenue')\n",
      "('MANHATTAN', 'MAN NORTH', 24, '24th Precinct', '212-678-1811', '151 West 100th Street')\n",
      "('MANHATTAN', 'MAN NORTH', 28, '28th Precinct', '212-678-1611', '2271-89 8th Avenue')\n",
      "('BROOKLYN', 'BKLYN SOUTH', 61, '61st Precinct', '718-627-6611', '2575 Coney Island Avenue')\n",
      "('QUEENS', 'QUEENS SOUTH', 103, '103rd Precinct', '718-657-8181', '168-02 P.O Edward Byrne Ave.')\n",
      "('BROOKLYN', 'BKLYN NORTH', 75, '75th Precinct', '718-827-3511', '1000 Sutter Avenue')\n",
      "('QUEENS', 'QUEENS NORTH', 104, '104th Precinct', '718-386-3004', '64-2 Catalpa Avenue')\n",
      "('MANHATTAN', 'MAN NORTH', 25, '25th Precinct', '212-860-6511', '120 East 119th Street')\n",
      "('BROOKLYN', 'BKLYN SOUTH', 66, '66th Precinct', '718-851-5611', '5822 16th Avenue')\n",
      "('MANHATTAN', 'MAN SOUTH', 7, '7th Precinct', '212-477-7311', '19 1/2 Pitt Street')\n",
      "('QUEENS', 'QUEENS SOUTH', 107, '107th Precinct', '718-969-5100', '71-01 Parsons Boulevard')\n",
      "('MANHATTAN', 'MAN NORTH', 34, '34th Precinct', '212-927-9711', '4295 Broadway')\n",
      "('QUEENS', 'QUEENS SOUTH', 102, '102nd Precinct', '718-805-3200', '87-34 118th Street')\n",
      "('MANHATTAN', 'MAN NORTH', 26, '26th Precinct', '212-678-1311', '520 West 126th Street')\n",
      "('MANHATTAN', 'MAN NORTH', 30, '30th Precinct', '212-690-8811', '451 West 151st Street')\n",
      "('QUEENS', 'QUEENS NORTH', 114, '114th Precinct', '718-626-9311', '34-16 Astoria Boulevard')\n",
      "('MANHATTAN', 'MAN SOUTH', 9, '9th Precinct', '212-477-7811', '321 East 5 Street')\n",
      "('BRONX', 'BRONX', 41, '41st Precinct', '718-542-4771', '1035 Longwood Avenue')\n",
      "('BROOKLYN', 'BKLYN SOUTH', 67, '67th Precinct', '718-287-3211', '2820 Snyder Avenue')\n",
      "('QUEENS', 'QUEENS SOUTH', 101, '101st Precinct', '718-868-3400', '16-12 Mott Avenue')\n",
      "('MANHATTAN', 'MAN SOUTH', 6, '6th Precinct', '212-741-4811', '233 West 10 Street')\n",
      "('BROOKLYN', 'BKLYN SOUTH', 62, '62nd Precinct', '718-236-2611', '1925 Bath Avenue')\n",
      "('BROOKLYN', 'BKLYN SOUTH', 71, '71st Precinct', '718-735-0511', '421 Empire Boulevard')\n",
      "('BROOKLYN', 'BKLYN NORTH', 88, '88th Precinct', '718-636-6511', '298 Classon Avenue')\n",
      "('BROOKLYN', 'BKLYN NORTH', 73, '73rd Precinct', '718-495-5411', '1470 East New York Avenue')\n",
      "('MANHATTAN', 'MAN SOUTH', 1, '1st Precinct', '212-334-0611', '16 Ericsson Place')\n",
      "('STATEN ISLAND', 'STATEN ISLAND', 123, '123rd Precinct', '718-948-9311', '116 Main Street')\n",
      "('BROOKLYN', 'BKLYN NORTH', 84, '84th Precinct', '718-875-6811', '301 Gold Street')\n",
      "('BROOKLYN', 'BKLYN NORTH', 90, '90th Precinct', '718-963-5311', '211 Union Avenue')\n",
      "('STATEN ISLAND', 'STATEN ISLAND', 122, '122nd Precinct', '718-667-2211', '2320 Hylan Boulevard')\n",
      "('STATEN ISLAND', 'STATEN ISLAND', 120, '120th Precinct', '718-876-8500', '78 Richmond Terrace')\n",
      "('QUEENS', 'QUEENS SOUTH', 113, '113th Precinct', '718-712-7733', '167-02 Baisley Boulevard')\n",
      "('QUEENS', 'QUEENS NORTH', 111, '111th Precinct', '718-279-5200', '45-06 215th Street')\n",
      "('BRONX', 'BRONX', 47, '47th Precinct', '718-920-1211', '4111 Laconia Avenue')\n",
      "('MANHATTAN', 'MAN NORTH', 32, '32nd Precinct', '212-690-6311', '250 West 135th Street')\n",
      "('QUEENS', 'QUEENS NORTH', 112, '112th Precinct', '718-520-9311', '68-40 Austin Street')\n",
      "('QUEENS', 'QUEENS SOUTH', 105, '105th Precinct', '718-776-9090', '92-08 222nd Street')\n",
      "('BRONX', 'BRONX', 52, '52nd Precinct', '718-220-5811', '3016 Webster Avenue')\n",
      "('BRONX', 'BRONX', 48, '48th Precinct', '718-299-3900', '450 Cross Bronx Expressway')\n",
      "('BROOKLYN', 'BKLYN NORTH', 79, '79th Precinct', '718-636-6611', '263 Tompkins Avenue')\n",
      "('BROOKLYN', 'BKLYN SOUTH', 69, '69th Precinct', '718-257-6211', '9720 Foster Avenue')\n",
      "('BROOKLYN', 'BKLYN SOUTH', 60, '60th Precinct', '718-946-3311', '2951 West 8th Street')\n",
      "('MANHATTAN', 'MAN SOUTH', 5, '5th Precinct', '212-334-0711', '19 Elizabeth Street')\n",
      "('BROOKLYN', 'BKLYN SOUTH', 63, '63rd Precinct', '718-258-4411', '1844 Brooklyn Avenue')\n",
      "('BROOKLYN', 'BKLYN NORTH', 81, 'NaN', 'NaN', 'NaN')\n",
      "('BRONX', 'BRONX', 50, '50th Precinct', '718-543-5700', '3450 Kingsbridge Avenue')\n",
      "('BROOKLYN', 'BKLYN SOUTH', 78, '78th Precinct', '718-636-6411', '65 6th Avenue')\n",
      "('BROOKLYN', 'BKLYN SOUTH', 72, '72nd Precinct', '718-965-6311', '830 4th Avenue')\n",
      "('BRONX', 'BRONX', 46, '46th Precinct', '718-220-5211', '2120 Ryer Avenue')\n",
      "('QUEENS', 'QUEENS NORTH', 110, '110th Precinct', '718-476-9311', '94-41 43rd Avenue')\n",
      "('BROOKLYN', 'BKLYN NORTH', 94, '94th Precinct', '718-383-3879', '100 Meserole Avenue')\n",
      "('QUEENS', 'QUEENS NORTH', 115, '115th Precinct', '718-533-2002', '92-15 Northern Boulevard')\n",
      "('QUEENS', 'QUEENS SOUTH', 100, '100th Precinct', '718-318-4200', '92-24 Rockaway Beach Boulevard')\n",
      "('MANHATTAN', 'MAN NORTH', 23, '23rd Precinct', '212-860-6411', '164 East 102nd Street')\n",
      "('MANHATTAN', 'MAN SOUTH', 17, '17th Precinct', '212-826-3211', '167 East 51st Street')\n",
      "('BRONX', 'BRONX', 45, '45th Precinct', '718-822-5411', '2877 Barkley Avenue')\n",
      "('MANHATTAN', 'MAN SOUTH', 13, '13th Precinct', '212-477-7411', '230 East 21st Street')\n",
      "('QUEENS', 'QUEENS NORTH', 108, '108th Precinct', '718-784-5411', '5-47 50th Avenue')\n",
      "('QUEENS', 'QUEENS SOUTH', 106, '106th Precinct', '718-845-2211', '103-53 101st Street')\n",
      "('MANHATTAN', 'MAN NORTH', 20, '20th Precinct', '212-580-6411', '120 West 82nd Street')\n",
      "('QUEENS', 'QUEENS NORTH', 109, '109th Precinct', '718-321-2250', '37-05 Union Street')\n",
      "('MANHATTAN', 'MAN NORTH', 33, '33rd Precinct', '212-927-3200', '2207 Amsterdam Avenue')\n",
      "('BROOKLYN', 'BKLYN SOUTH', 76, '76th Precinct', '718-834-3211', '191 Union Street')\n",
      "('MANHATTAN', 'MAN NORTH', 22, 'Central Park Precinct', '212-570-4820', '86th St & Transverse Road')\n"
     ]
    }
   ],
   "source": [
    "#select and print all from the table\n",
    "\n",
    "queryCmd = 'SELECT * from NYPD_PCT'    \n",
    "cur.execute(queryCmd)    \n",
    "print(\"The number of rows: \", cur.rowcount)\n",
    "\n",
    "row = cur.fetchone()\n",
    "while row is not None:\n",
    "    print(row)\n",
    "    row = cur.fetchone()    "
   ]
  },
  {
   "cell_type": "markdown",
   "id": "b7d89823",
   "metadata": {},
   "source": [
    "### 2.2 Execute SQL Query"
   ]
  },
  {
   "cell_type": "markdown",
   "id": "d351b46c",
   "metadata": {},
   "source": [
    "The SQL query takes in two variables filtering Boro_nm and Patrl_boro_nm, it will return all the NYPD precincts within the searching region. \n",
    "For example, if we search for the North side of Queens, it will return 8 NYPD precincts in the area."
   ]
  },
  {
   "cell_type": "code",
   "execution_count": 22,
   "id": "33af144a",
   "metadata": {},
   "outputs": [
    {
     "name": "stdout",
     "output_type": "stream",
     "text": [
      "The number of rows:  12\n",
      "('BRONX', 'BRONX', 42, '42nd Precinct', '718-402-3887', '830 Washington Avenue')\n",
      "('BRONX', 'BRONX', 44, '44th Precinct', '718-590-5511', '2 East 169th Street')\n",
      "('BRONX', 'BRONX', 49, '49th Precinct', '718-918-2000', '2121 Eastchester Road')\n",
      "('BRONX', 'BRONX', 40, '40th Precinct', '718-402-2270', '257 Alexander Avenue')\n",
      "('BRONX', 'BRONX', 43, '43rd Precinct', '718-542-0888', '900 Fteley Avenue')\n",
      "('BRONX', 'BRONX', 41, '41st Precinct', '718-542-4771', '1035 Longwood Avenue')\n",
      "('BRONX', 'BRONX', 47, '47th Precinct', '718-920-1211', '4111 Laconia Avenue')\n",
      "('BRONX', 'BRONX', 52, '52nd Precinct', '718-220-5811', '3016 Webster Avenue')\n",
      "('BRONX', 'BRONX', 48, '48th Precinct', '718-299-3900', '450 Cross Bronx Expressway')\n",
      "('BRONX', 'BRONX', 50, '50th Precinct', '718-543-5700', '3450 Kingsbridge Avenue')\n",
      "('BRONX', 'BRONX', 46, '46th Precinct', '718-220-5211', '2120 Ryer Avenue')\n",
      "('BRONX', 'BRONX', 45, '45th Precinct', '718-822-5411', '2877 Barkley Avenue')\n"
     ]
    }
   ],
   "source": [
    "queryCmd = \"Select * from NYPD_PCT where BORO_NM LIKE '%BRONX%'\"    \n",
    "cur.execute(queryCmd) \n",
    "print(\"The number of rows: \", cur.rowcount)\n",
    "\n",
    "row = cur.fetchone()\n",
    "while row is not None:\n",
    "    print(row)\n",
    "    row = cur.fetchone() "
   ]
  },
  {
   "cell_type": "code",
   "execution_count": 23,
   "id": "eb1c76c7",
   "metadata": {},
   "outputs": [
    {
     "name": "stdout",
     "output_type": "stream",
     "text": [
      "The number of rows:  8\n",
      "('QUEENS', 'QUEENS NORTH', 104, '104th Precinct', '718-386-3004', '64-2 Catalpa Avenue')\n",
      "('QUEENS', 'QUEENS NORTH', 114, '114th Precinct', '718-626-9311', '34-16 Astoria Boulevard')\n",
      "('QUEENS', 'QUEENS NORTH', 111, '111th Precinct', '718-279-5200', '45-06 215th Street')\n",
      "('QUEENS', 'QUEENS NORTH', 112, '112th Precinct', '718-520-9311', '68-40 Austin Street')\n",
      "('QUEENS', 'QUEENS NORTH', 110, '110th Precinct', '718-476-9311', '94-41 43rd Avenue')\n",
      "('QUEENS', 'QUEENS NORTH', 115, '115th Precinct', '718-533-2002', '92-15 Northern Boulevard')\n",
      "('QUEENS', 'QUEENS NORTH', 108, '108th Precinct', '718-784-5411', '5-47 50th Avenue')\n",
      "('QUEENS', 'QUEENS NORTH', 109, '109th Precinct', '718-321-2250', '37-05 Union Street')\n"
     ]
    }
   ],
   "source": [
    "queryCmd = \"Select * from NYPD_PCT where BORO_NM LIKE '%QUEENS%' and PATRL_BORO_NM LIKE '%NORTH%'\"    \n",
    "cur.execute(queryCmd) \n",
    "print(\"The number of rows: \", cur.rowcount)\n",
    "\n",
    "row = cur.fetchone()\n",
    "while row is not None:\n",
    "    print(row)\n",
    "    row = cur.fetchone() "
   ]
  },
  {
   "cell_type": "code",
   "execution_count": 24,
   "id": "c4ead47f",
   "metadata": {},
   "outputs": [
    {
     "name": "stdout",
     "output_type": "stream",
     "text": [
      "The number of rows:  8\n",
      "('QUEENS', 'QUEENS NORTH', 104, '104th Precinct', '718-386-3004', '64-2 Catalpa Avenue')\n",
      "('QUEENS', 'QUEENS NORTH', 114, '114th Precinct', '718-626-9311', '34-16 Astoria Boulevard')\n",
      "('QUEENS', 'QUEENS NORTH', 111, '111th Precinct', '718-279-5200', '45-06 215th Street')\n",
      "('QUEENS', 'QUEENS NORTH', 112, '112th Precinct', '718-520-9311', '68-40 Austin Street')\n",
      "('QUEENS', 'QUEENS NORTH', 110, '110th Precinct', '718-476-9311', '94-41 43rd Avenue')\n",
      "('QUEENS', 'QUEENS NORTH', 115, '115th Precinct', '718-533-2002', '92-15 Northern Boulevard')\n",
      "('QUEENS', 'QUEENS NORTH', 108, '108th Precinct', '718-784-5411', '5-47 50th Avenue')\n",
      "('QUEENS', 'QUEENS NORTH', 109, '109th Precinct', '718-321-2250', '37-05 Union Street')\n",
      "CPU times: user 1.88 ms, sys: 1.6 ms, total: 3.48 ms\n",
      "Wall time: 4.38 ms\n"
     ]
    }
   ],
   "source": [
    "%%time\n",
    "\n",
    "# Assign variables 1 and 2 and implement them as filters in the SQL query\n",
    "\n",
    "var1 = 'QUEENS' \n",
    "var2 = 'NORTH' \n",
    "\n",
    "queryCmd_3 = \"Select * from NYPD_PCT where BORO_NM LIKE '%%%s%%' and PATRL_BORO_NM LIKE '%%%s%%'\"  % ( var1, var2 )  \n",
    "cur.execute(queryCmd_3) \n",
    "print(\"The number of rows: \", cur.rowcount)\n",
    "\n",
    "row = cur.fetchone()\n",
    "while row is not None:\n",
    "    print(row)\n",
    "    row = cur.fetchone() "
   ]
  },
  {
   "cell_type": "code",
   "execution_count": 95,
   "id": "3c852ea1",
   "metadata": {},
   "outputs": [],
   "source": [
    "# cur.close()"
   ]
  },
  {
   "cell_type": "markdown",
   "id": "b4825d11",
   "metadata": {},
   "source": [
    "## 3. Connect to MongoDB database and construct collection for NYPD Calls"
   ]
  },
  {
   "cell_type": "markdown",
   "id": "575f5748",
   "metadata": {},
   "source": [
    "### 3.1 Connect to MongoDB and create apan 5400 Database"
   ]
  },
  {
   "cell_type": "code",
   "execution_count": 25,
   "id": "c3764d63",
   "metadata": {},
   "outputs": [],
   "source": [
    "from pymongo import MongoClient\n",
    "client = MongoClient('localhost',27017) ## or MongoClient(\"localhost:27017\")\n",
    "db = client.apan5400"
   ]
  },
  {
   "cell_type": "markdown",
   "id": "48d77ff8",
   "metadata": {},
   "source": [
    "### 3.2 Preprocess NYPD call event info as documents"
   ]
  },
  {
   "cell_type": "code",
   "execution_count": 6,
   "id": "2e6b2070",
   "metadata": {},
   "outputs": [
    {
     "name": "stdout",
     "output_type": "stream",
     "text": [
      "CPU times: user 46.4 s, sys: 4.58 s, total: 51 s\n",
      "Wall time: 55.1 s\n"
     ]
    }
   ],
   "source": [
    "%%time\n",
    "import csv\n",
    "myFile = open('5400NYPD.csv', 'r')\n",
    "reader = csv.DictReader(myFile)\n",
    "newsfeeds = list(reader)"
   ]
  },
  {
   "cell_type": "code",
   "execution_count": 7,
   "id": "86260c80",
   "metadata": {},
   "outputs": [
    {
     "data": {
      "text/plain": [
       "{'': '1',\n",
       " 'CAD_EVNT_ID': '82283653',\n",
       " 'CREATE_DATE': '01/01/2022',\n",
       " 'INCIDENT_DATE': '12/31/2021',\n",
       " 'INCIDENT_TIME': '23:02:02',\n",
       " 'NYPD_PCT_CD': '42',\n",
       " 'BORO_NM': 'BRONX',\n",
       " 'PATRL_BORO_NM': 'BRONX',\n",
       " 'GEO_CD_X': '1014646',\n",
       " 'GEO_CD_Y': '243583',\n",
       " 'RADIO_CODE': '54E1',\n",
       " 'TYP_DESC': 'AMBULANCE CASE: EDP/INSIDE',\n",
       " 'CIP_JOBS': 'Non CIP',\n",
       " 'ADD_TS': '01/01/2022 12:14:06 AM',\n",
       " 'DISP_TS': '01/01/2022 12:19:23 AM',\n",
       " 'ARRIVD_TS': 'NA',\n",
       " 'CLOSNG_TS': '01/01/2022 01:21:48 AM',\n",
       " 'Latitude': '40.83521',\n",
       " 'Longitude': '-73.890157',\n",
       " 'INCIDENT_TS': '12/31/2021 23:02:02',\n",
       " 'OVERALL_EFF': '8386',\n",
       " 'RESPOND_EFF': '4324',\n",
       " 'DISPATCH_EFF': '317',\n",
       " 'SOLVE_EFF': '3745'}"
      ]
     },
     "execution_count": 7,
     "metadata": {},
     "output_type": "execute_result"
    }
   ],
   "source": [
    "newsfeeds[0]"
   ]
  },
  {
   "cell_type": "code",
   "execution_count": 8,
   "id": "9387a485",
   "metadata": {},
   "outputs": [
    {
     "data": {
      "text/plain": [
       "7401019"
      ]
     },
     "execution_count": 8,
     "metadata": {},
     "output_type": "execute_result"
    }
   ],
   "source": [
    "len(newsfeeds)"
   ]
  },
  {
   "cell_type": "markdown",
   "id": "b297e676",
   "metadata": {},
   "source": [
    "### 3.3  Create collection \"Calls\" in the apan5400 database to store NYPD calls "
   ]
  },
  {
   "cell_type": "code",
   "execution_count": 27,
   "id": "9a549abe",
   "metadata": {},
   "outputs": [],
   "source": [
    "collection = db.calls"
   ]
  },
  {
   "cell_type": "code",
   "execution_count": 38,
   "id": "4dbcf1bc",
   "metadata": {},
   "outputs": [
    {
     "name": "stdout",
     "output_type": "stream",
     "text": [
      "CPU times: user 3min 8s, sys: 6min 40s, total: 9min 48s\n",
      "Wall time: 28min 39s\n"
     ]
    },
    {
     "data": {
      "text/plain": [
       "<pymongo.results.InsertManyResult at 0x7fd6be8f3eb0>"
      ]
     },
     "execution_count": 38,
     "metadata": {},
     "output_type": "execute_result"
    }
   ],
   "source": [
    "%%time\n",
    "\n",
    "# Insert Calls documents into collection Calls\n",
    "\n",
    "collection.insert_many(newsfeeds)"
   ]
  },
  {
   "cell_type": "code",
   "execution_count": 28,
   "id": "4b1fc172",
   "metadata": {},
   "outputs": [
    {
     "data": {
      "text/plain": [
       "{'_id': ObjectId('643efa7f31f75929ed8b8cae'),\n",
       " '': '1',\n",
       " 'CAD_EVNT_ID': '82283653',\n",
       " 'CREATE_DATE': '01/01/2022',\n",
       " 'INCIDENT_DATE': '12/31/2021',\n",
       " 'INCIDENT_TIME': '23:02:02',\n",
       " 'NYPD_PCT_CD': '42',\n",
       " 'BORO_NM': 'BRONX',\n",
       " 'PATRL_BORO_NM': 'BRONX',\n",
       " 'GEO_CD_X': '1014646',\n",
       " 'GEO_CD_Y': '243583',\n",
       " 'RADIO_CODE': '54E1',\n",
       " 'TYP_DESC': 'AMBULANCE CASE: EDP/INSIDE',\n",
       " 'CIP_JOBS': 'Non CIP',\n",
       " 'ADD_TS': '01/01/2022 12:14:06 AM',\n",
       " 'DISP_TS': '01/01/2022 12:19:23 AM',\n",
       " 'ARRIVD_TS': 'NA',\n",
       " 'CLOSNG_TS': '01/01/2022 01:21:48 AM',\n",
       " 'Latitude': '40.83521',\n",
       " 'Longitude': '-73.890157',\n",
       " 'INCIDENT_TS': '12/31/2021 23:02:02',\n",
       " 'OVERALL_EFF': '8386',\n",
       " 'RESPOND_EFF': '4324',\n",
       " 'DISPATCH_EFF': '317',\n",
       " 'SOLVE_EFF': '3745'}"
      ]
     },
     "execution_count": 28,
     "metadata": {},
     "output_type": "execute_result"
    }
   ],
   "source": [
    "collection.find_one()"
   ]
  },
  {
   "cell_type": "code",
   "execution_count": 29,
   "id": "652d1869",
   "metadata": {},
   "outputs": [
    {
     "data": {
      "text/plain": [
       "7401019"
      ]
     },
     "execution_count": 29,
     "metadata": {},
     "output_type": "execute_result"
    }
   ],
   "source": [
    "total_docs = collection.count_documents({})\n",
    "total_docs"
   ]
  },
  {
   "cell_type": "code",
   "execution_count": 36,
   "id": "96384ba9",
   "metadata": {},
   "outputs": [],
   "source": [
    "# collection.drop()"
   ]
  },
  {
   "cell_type": "markdown",
   "id": "33e60912",
   "metadata": {},
   "source": [
    "### 3.4 Execute MongoDB query"
   ]
  },
  {
   "cell_type": "markdown",
   "id": "c2bb4862",
   "metadata": {},
   "source": [
    "Same as above, the MongoDB query takes in three variables set as filters for $match. It returns the all the calls and their detailed information corresponding to the requirements.\n",
    "For example, the following code returns all events happened on Jan. 1st, 2022, that was responded to by NYPD Precinct 42, and the incident includes fire."
   ]
  },
  {
   "cell_type": "code",
   "execution_count": 30,
   "id": "2489e877",
   "metadata": {},
   "outputs": [
    {
     "name": "stdout",
     "output_type": "stream",
     "text": [
      "CPU times: user 4.06 ms, sys: 4.84 ms, total: 8.89 ms\n",
      "Wall time: 5.03 s\n"
     ]
    },
    {
     "data": {
      "text/plain": [
       "{'_id': ObjectId('643efa7f31f75929ed8b8d00'),\n",
       " '': '83',\n",
       " 'CAD_EVNT_ID': '82284594',\n",
       " 'CREATE_DATE': '01/01/2022',\n",
       " 'INCIDENT_DATE': '01/01/2022',\n",
       " 'INCIDENT_TIME': '00:06:56',\n",
       " 'NYPD_PCT_CD': '42',\n",
       " 'BORO_NM': 'BRONX',\n",
       " 'PATRL_BORO_NM': 'BRONX',\n",
       " 'GEO_CD_X': '1015519',\n",
       " 'GEO_CD_Y': '241579',\n",
       " 'RADIO_CODE': '10S2',\n",
       " 'TYP_DESC': 'INVESTIGATE/POSSIBLE CRIME: SHOTS FIRED/OUTSIDE',\n",
       " 'CIP_JOBS': 'Critical',\n",
       " 'ADD_TS': '01/01/2022 12:06:56 AM',\n",
       " 'DISP_TS': '01/01/2022 12:07:41 AM',\n",
       " 'ARRIVD_TS': 'NA',\n",
       " 'CLOSNG_TS': '01/01/2022 12:54:28 AM',\n",
       " 'Latitude': '40.829707',\n",
       " 'Longitude': '-73.887011',\n",
       " 'INCIDENT_TS': '01/01/2022 00:06:56',\n",
       " 'OVERALL_EFF': '2852',\n",
       " 'RESPOND_EFF': '0',\n",
       " 'DISPATCH_EFF': '45',\n",
       " 'SOLVE_EFF': '2807'}"
      ]
     },
     "execution_count": 30,
     "metadata": {},
     "output_type": "execute_result"
    }
   ],
   "source": [
    "%%time\n",
    "nypd_var = '42'\n",
    "\n",
    "pipeline = [ \n",
    "    { \"$match\": \n",
    "         { \"NYPD_PCT_CD\": nypd_var,\n",
    "           \"CREATE_DATE\": '01/01/2022',\n",
    "           \"TYP_DESC\":{\"$regex\":\"FIRE\",\n",
    "                       \"$options\" :'i'}} \n",
    "    }\n",
    "]\n",
    "list(collection.aggregate(pipeline))[0]"
   ]
  },
  {
   "cell_type": "code",
   "execution_count": 31,
   "id": "3000651a",
   "metadata": {},
   "outputs": [
    {
     "name": "stdout",
     "output_type": "stream",
     "text": [
      "CPU times: user 5.41 ms, sys: 2.85 ms, total: 8.26 ms\n",
      "Wall time: 3.64 s\n"
     ]
    },
    {
     "data": {
      "text/plain": [
       "{'_id': ObjectId('643efa7f31f75929ed8b8d00'),\n",
       " '': '83',\n",
       " 'CAD_EVNT_ID': '82284594',\n",
       " 'CREATE_DATE': '01/01/2022',\n",
       " 'INCIDENT_DATE': '01/01/2022',\n",
       " 'INCIDENT_TIME': '00:06:56',\n",
       " 'NYPD_PCT_CD': '42',\n",
       " 'BORO_NM': 'BRONX',\n",
       " 'PATRL_BORO_NM': 'BRONX',\n",
       " 'GEO_CD_X': '1015519',\n",
       " 'GEO_CD_Y': '241579',\n",
       " 'RADIO_CODE': '10S2',\n",
       " 'TYP_DESC': 'INVESTIGATE/POSSIBLE CRIME: SHOTS FIRED/OUTSIDE',\n",
       " 'CIP_JOBS': 'Critical',\n",
       " 'ADD_TS': '01/01/2022 12:06:56 AM',\n",
       " 'DISP_TS': '01/01/2022 12:07:41 AM',\n",
       " 'ARRIVD_TS': 'NA',\n",
       " 'CLOSNG_TS': '01/01/2022 12:54:28 AM',\n",
       " 'Latitude': '40.829707',\n",
       " 'Longitude': '-73.887011',\n",
       " 'INCIDENT_TS': '01/01/2022 00:06:56',\n",
       " 'OVERALL_EFF': '2852',\n",
       " 'RESPOND_EFF': '0',\n",
       " 'DISPATCH_EFF': '45',\n",
       " 'SOLVE_EFF': '2807'}"
      ]
     },
     "execution_count": 31,
     "metadata": {},
     "output_type": "execute_result"
    }
   ],
   "source": [
    "%%time\n",
    "nypd_var = '42'\n",
    "date_time = '01/01/2022'\n",
    "type_incident = 'FIRE'\n",
    "\n",
    "pipeline = [ \n",
    "    { \"$match\": \n",
    "         { \"NYPD_PCT_CD\": nypd_var,\n",
    "           \"CREATE_DATE\": date_time,\n",
    "           \"TYP_DESC\":{\"$regex\":type_incident,\n",
    "                       \"$options\" :'i'}} \n",
    "    }\n",
    "]\n",
    "list(collection.aggregate(pipeline))[0]"
   ]
  },
  {
   "cell_type": "markdown",
   "id": "7cfc124b",
   "metadata": {},
   "source": [
    "## 4. Develop User Interface using Python Flask"
   ]
  },
  {
   "cell_type": "markdown",
   "id": "d14b2de3",
   "metadata": {},
   "source": [
    "The user is expected to input the first two fields first to find the NYPDs. Then they could find the incidents they are interested in from the further three fields. \n",
    "The user cannot fill in all the five fields, either the first two or the last three. If they input all of them, the server will only return the results from RDBMS. \n",
    "The user does not have to fill in both the two fields, or the last three fields. They can simply search for the borough or simply NYPD precinct without other key inputes. The server will still return the corresponding results.\n",
    "If the user does not input anything and clicks on submit, the server will ask the user to check his/her input."
   ]
  },
  {
   "cell_type": "code",
   "execution_count": 53,
   "id": "e78f8120",
   "metadata": {},
   "outputs": [],
   "source": [
    "from flask import Flask, request, render_template\n",
    "app = Flask(\"APAN5400App\")\n",
    "\n",
    "@app.route('/')\n",
    "def my_form():\n",
    "    return render_template(\"my_form.html\")\n",
    "\n",
    "@app.route('/', methods=['POST'])\n",
    "def my_form_post():\n",
    "    var1 = request.form['userinput1']\n",
    "    var2 = request.form['userinput2']\n",
    "    var3 = request.form['userinput3']\n",
    "    var4 = request.form['userinput4']\n",
    "    var5 = request.form['userinput5']\n",
    "    if var1 != '':\n",
    "        queryCmd = \"Select * from NYPD_PCT where BORO_NM LIKE '%%%s%%' and PATRL_BORO_NM LIKE '%%%s%%'\"  % ( var1, var2 ) \n",
    "        cur.execute(queryCmd) \n",
    "\n",
    "        row = cur.fetchone()\n",
    "        result = []\n",
    "        while row is not None:\n",
    "            result.append(row)\n",
    "            row = cur.fetchone() \n",
    "\n",
    "        return str(result)\n",
    "    elif var3 != '':\n",
    "        nypd_var = var3\n",
    "        date_time = var4\n",
    "        type_incident = var5\n",
    "\n",
    "        pipeline = [ \n",
    "            { \"$match\": \n",
    "                 { \"NYPD_PCT_CD\": nypd_var,\n",
    "                   \"CREATE_DATE\": date_time,\n",
    "                   \"TYP_DESC\":{\"$regex\":type_incident,\n",
    "                               \"$options\" :'i'}} \n",
    "            }\n",
    "        ]\n",
    "        result = []\n",
    "        for record in collection.aggregate(pipeline):\n",
    "            result.append(record)\n",
    "\n",
    "        return str(result)\n",
    "    else:\n",
    "        result = 'Please check your input.'\n",
    "        return result\n"
   ]
  },
  {
   "cell_type": "code",
   "execution_count": 55,
   "id": "0de852d2",
   "metadata": {},
   "outputs": [
    {
     "name": "stdout",
     "output_type": "stream",
     "text": [
      " * Serving Flask app 'APAN5400App'\n",
      " * Debug mode: off\n"
     ]
    },
    {
     "name": "stderr",
     "output_type": "stream",
     "text": [
      "WARNING: This is a development server. Do not use it in a production deployment. Use a production WSGI server instead.\n",
      " * Running on http://localhost:5011\n",
      "Press CTRL+C to quit\n",
      "127.0.0.1 - - [28/Apr/2023 11:44:00] \"GET / HTTP/1.1\" 200 -\n",
      "127.0.0.1 - - [28/Apr/2023 11:44:00] \"GET /favicon.ico HTTP/1.1\" 404 -\n",
      "127.0.0.1 - - [28/Apr/2023 11:45:40] \"POST / HTTP/1.1\" 200 -\n",
      "127.0.0.1 - - [28/Apr/2023 11:46:09] \"GET / HTTP/1.1\" 200 -\n",
      "127.0.0.1 - - [28/Apr/2023 11:48:22] \"POST / HTTP/1.1\" 200 -\n"
     ]
    }
   ],
   "source": [
    "# Run flask\n",
    "app.run(host='localhost', port=5011)"
   ]
  },
  {
   "cell_type": "markdown",
   "id": "702e0d88",
   "metadata": {},
   "source": [
    "### 4.1 Input variable Try-out on Flask"
   ]
  },
  {
   "cell_type": "code",
   "execution_count": 196,
   "id": "b67dba2d",
   "metadata": {},
   "outputs": [],
   "source": [
    "@app.route('/')\n",
    "def my_form():\n",
    "    return render_template(\"my_form.html\")\n",
    "\n",
    "@app.route('/', methods=['POST'])\n",
    "def my_form_post():\n",
    "    nypd_var = request.form['userinput3']\n",
    "    date_time = request.form['userinput4']\n",
    "    type_incident = request.form['userinput5']\n",
    "\n",
    "    pipeline = [ \n",
    "        { \"$match\": \n",
    "             { \"NYPD_PCT_CD\": nypd_var,\n",
    "               \"CREATE_DATE\": date_time,\n",
    "               \"TYP_DESC\":{\"$regex\":type_incident,\n",
    "                           \"$options\" :'i'}} \n",
    "        }\n",
    "    ]\n",
    "    \n",
    "    result = []\n",
    "    for record in collection.aggregate(pipeline):\n",
    "        result.append(record['CAD_EVNT_ID'])\n",
    "\n",
    "    return str(result)"
   ]
  },
  {
   "cell_type": "code",
   "execution_count": 203,
   "id": "c2643fd3",
   "metadata": {},
   "outputs": [],
   "source": [
    "@app.route('/')\n",
    "def my_form():\n",
    "    return render_template(\"my_form.html\")\n",
    "\n",
    "@app.route('/', methods=['POST'])\n",
    "def my_form_post():\n",
    "    var1 = request.form['userinput1']\n",
    "    var2 = request.form['userinput2']\n",
    "    queryCmd_6 = \"Select * from NYPD_PCT where BORO_NM LIKE '%%%s%%' and PATRL_BORO_NM LIKE '%%%s%%'\"  % ( var1, var2 ) \n",
    "    cur.execute(queryCmd_6) \n",
    "\n",
    "    row = cur.fetchone()\n",
    "    result = []\n",
    "    while row is not None:\n",
    "        result.append(row[2])\n",
    "        row = cur.fetchone() \n",
    "\n",
    "    return str(result)\n",
    "\n"
   ]
  },
  {
   "cell_type": "markdown",
   "id": "cc8f9b0a",
   "metadata": {},
   "source": [
    "## The End!"
   ]
  }
 ],
 "metadata": {
  "kernelspec": {
   "display_name": "Python 3 (ipykernel)",
   "language": "python",
   "name": "python3"
  },
  "language_info": {
   "codemirror_mode": {
    "name": "ipython",
    "version": 3
   },
   "file_extension": ".py",
   "mimetype": "text/x-python",
   "name": "python",
   "nbconvert_exporter": "python",
   "pygments_lexer": "ipython3",
   "version": "3.9.12"
  }
 },
 "nbformat": 4,
 "nbformat_minor": 5
}
